{
 "cells": [
  {
   "cell_type": "code",
   "execution_count": 1,
   "metadata": {},
   "outputs": [],
   "source": [
    "from web3 import Web3\n",
    "import rlp\n",
    "from ethereum.transactions import Transaction\n",
    "from solc import compile_files\n",
    "from json import dumps, loads"
   ]
  },
  {
   "cell_type": "code",
   "execution_count": 2,
   "metadata": {},
   "outputs": [],
   "source": [
    "web3 = Web3(Web3.HTTPProvider(\"https://rinkeby.infura.io/MSNyVuE56cCNMxT1C4BA\"))\n",
    "\n",
    "acc = '0x8029D7C9d552748ec394c395F301B6f6900776E8'\n",
    "pk = '0xcf27d8ff267b1e042816d0fc21a94cdba407264a5ecb46e8b102cc451077d84d'"
   ]
  },
  {
   "cell_type": "code",
   "execution_count": null,
   "metadata": {},
   "outputs": [],
   "source": [
    "res = compile_files(['ICO_controller.sol'])\n",
    "\n",
    "c1 = res['OldminToken2.sol:OldminToken2']\n",
    "\n",
    "f = open('c_abi1.txt', 'w')\n",
    "f.write(dumps(c1['abi']))\n",
    "f.close()\n",
    "'''\n",
    "f = open('c_abi2.txt', 'w')\n",
    "f.write(dumps(c2['abi']))\n",
    "f.close()\n",
    "'''\n",
    "f = open('OldminToken2.soc', 'w')\n",
    "f.write(dumps(c1['bin']))\n",
    "f.close()\n",
    "\n",
    "contract1 = web3.eth.contract(abi=c1['abi'], bytecode=c1['bin'])\n",
    "tx1 = Transaction(\n",
    "    nonce=web3.eth.getTransactionCount(acc),\n",
    "    to=b'',\n",
    "    gasprice=web3.eth.gasPrice,\n",
    "    startgas=3000000,\n",
    "    value=0,\n",
    "    data=contract1.bytecode\n",
    "    )\n",
    "tx1.sign(pk)\n",
    "raw_tx1 = rlp.encode(tx1)\n",
    "raw_tx_hex1 = web3.toHex(raw_tx1)\n",
    "tx_hash1 = web3.eth.sendRawTransaction(raw_tx_hex1)\n",
    "print(tx_hash1)\n",
    "tx_receipt1 = web3.eth.getTransactionReceipt(tx_hash1)\n",
    "print(tx_receipt1)"
   ]
  }
 ],
 "metadata": {
  "kernelspec": {
   "display_name": "Python 3",
   "language": "python",
   "name": "python3"
  },
  "language_info": {
   "codemirror_mode": {
    "name": "ipython",
    "version": 3
   },
   "file_extension": ".py",
   "mimetype": "text/x-python",
   "name": "python",
   "nbconvert_exporter": "python",
   "pygments_lexer": "ipython3",
   "version": "3.5.2"
  }
 },
 "nbformat": 4,
 "nbformat_minor": 2
}
