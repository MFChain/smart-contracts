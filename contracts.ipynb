{
 "cells": [
  {
   "cell_type": "code",
   "execution_count": 1,
   "metadata": {},
   "outputs": [],
   "source": [
    "from web3 import Web3\n",
    "import rlp\n",
    "from ethereum.transactions import Transaction\n",
    "from solc import compile_files\n",
    "from json import dumps, loads"
   ]
  },
  {
   "cell_type": "code",
   "execution_count": 29,
   "metadata": {},
   "outputs": [],
   "source": [
    "web3 = Web3(Web3.HTTPProvider(\"https://rinkeby.infura.io/MSNyVuE56cCNMxT1C4BA\"))"
   ]
  },
  {
   "cell_type": "code",
   "execution_count": 27,
   "metadata": {},
   "outputs": [],
   "source": [
    "web3 = Web3(Web3.HTTPProvider(\"http://localhost:8545\"))\n",
    "source = web3.eth.accounts[0]\n",
    "\n",
    "res = compile_files(['contracts/4tests.sol'], optimize=True, optimize_runs=500)\n",
    "\n",
    "controller = res['contracts/4tests.sol:ICO_controller']\n",
    "contract = web3.eth.contract(abi=controller['abi'], bytecode=controller['bin'])\n",
    "tx = {\n",
    "    'from': source,\n",
    "    'value': 0,\n",
    "    'gas': 8900000,\n",
    "    'data': contract.bytecode,\n",
    "    'gasprice': web3.eth.gasPrice\n",
    "    }\n",
    "tx_hash = web3.eth.sendTransaction(tx)"
   ]
  },
  {
   "cell_type": "code",
   "execution_count": 28,
   "metadata": {},
   "outputs": [
    {
     "name": "stdout",
     "output_type": "stream",
     "text": [
      "AttributeDict({'transactionHash': HexBytes('0xdaebec5921786164570c19464f5d33e017056e95beb569c6811b58910a34d366'), 'blockNumber': 6, 'blockHash': HexBytes('0x8da53720170e3c4db3c2bc75c6a84eef7c1e91a67d9074afa37dbb510a3efb46'), 'status': 1, 'cumulativeGasUsed': 4588601, 'transactionIndex': 0, 'contractAddress': '0xc21E2eeb0e2E2Aca629fA435Bfd3AA75263C7015', 'gasUsed': 4588601, 'logs': []})\n"
     ]
    }
   ],
   "source": [
    "tx_receipt = web3.eth.getTransactionReceipt(tx_hash)\n",
    "print(tx_receipt)"
   ]
  },
  {
   "cell_type": "code",
   "execution_count": 3,
   "metadata": {},
   "outputs": [
    {
     "name": "stdout",
     "output_type": "stream",
     "text": [
      "0xaaD64BEf1b6Fa3646859d10e6EE670D01811b908\n"
     ]
    },
    {
     "ename": "AttributeError",
     "evalue": "'LocalAccount' object has no attribute 'privatekey'",
     "output_type": "error",
     "traceback": [
      "\u001b[0;31m---------------------------------------------------------------------------\u001b[0m",
      "\u001b[0;31mAttributeError\u001b[0m                            Traceback (most recent call last)",
      "\u001b[0;32m<ipython-input-3-dc9fa6f1c28e>\u001b[0m in \u001b[0;36m<module>\u001b[0;34m()\u001b[0m\n\u001b[1;32m      1\u001b[0m \u001b[0maccount\u001b[0m \u001b[0;34m=\u001b[0m \u001b[0mweb3\u001b[0m\u001b[0;34m.\u001b[0m\u001b[0meth\u001b[0m\u001b[0;34m.\u001b[0m\u001b[0maccount\u001b[0m\u001b[0;34m.\u001b[0m\u001b[0mcreate\u001b[0m\u001b[0;34m(\u001b[0m\u001b[0;34m'password'\u001b[0m\u001b[0;34m)\u001b[0m\u001b[0;34m\u001b[0m\u001b[0m\n\u001b[1;32m      2\u001b[0m \u001b[0mprint\u001b[0m\u001b[0;34m(\u001b[0m\u001b[0maccount\u001b[0m\u001b[0;34m.\u001b[0m\u001b[0maddress\u001b[0m\u001b[0;34m)\u001b[0m\u001b[0;34m\u001b[0m\u001b[0m\n\u001b[0;32m----> 3\u001b[0;31m \u001b[0mprint\u001b[0m\u001b[0;34m(\u001b[0m\u001b[0maccount\u001b[0m\u001b[0;34m.\u001b[0m\u001b[0mprivatekey\u001b[0m\u001b[0;34m.\u001b[0m\u001b[0mhex\u001b[0m\u001b[0;34m(\u001b[0m\u001b[0;34m)\u001b[0m\u001b[0;34m)\u001b[0m\u001b[0;34m\u001b[0m\u001b[0m\n\u001b[0m",
      "\u001b[0;31mAttributeError\u001b[0m: 'LocalAccount' object has no attribute 'privatekey'"
     ]
    }
   ],
   "source": [
    "account = web3.eth.account.create('password')\n",
    "print(account.address)\n",
    "print(account.privateKey.hex())"
   ]
  },
  {
   "cell_type": "code",
   "execution_count": 4,
   "metadata": {},
   "outputs": [
    {
     "name": "stdout",
     "output_type": "stream",
     "text": [
      "0x88b7d17e7e9cb668ec1700c3b3a7efd5229ec2bf8e165be948f514412857c6e9\n"
     ]
    }
   ],
   "source": [
    "print(account.privateKey.hex())"
   ]
  },
  {
   "cell_type": "code",
   "execution_count": 30,
   "metadata": {},
   "outputs": [],
   "source": [
    "account_addr = '0xaaD64BEf1b6Fa3646859d10e6EE670D01811b908'\n",
    "account_pk = '0x88b7d17e7e9cb668ec1700c3b3a7efd5229ec2bf8e165be948f514412857c6e9'"
   ]
  },
  {
   "cell_type": "code",
   "execution_count": 32,
   "metadata": {},
   "outputs": [],
   "source": [
    "res = compile_files(['contracts/4tests.sol'], optimize=True, optimize_runs=500)\n",
    "\n",
    "controller = res['contracts/4tests.sol:ICO_controller']\n",
    "crowdsale = res['contracts/4tests.sol:WhitelistedCrowdsale']\n",
    "holder = res['contracts/4tests.sol:Holder']\n",
    "token = res['contracts/4tests.sol:MFC_Token']\n",
    "\n",
    "f = open('controller_abi.txt', 'w')\n",
    "f.write(dumps(controller['abi']))\n",
    "f.close()\n",
    "\n",
    "f = open('crowdsale_abi.txt', 'w')\n",
    "f.write(dumps(crowdsale['abi']))\n",
    "f.close()\n",
    "\n",
    "f = open('holder_abi.txt', 'w')\n",
    "f.write(dumps(holder['abi']))\n",
    "f.close()\n",
    "\n",
    "f = open('token_abi.txt', 'w')\n",
    "f.write(dumps(token['abi']))\n",
    "f.close()"
   ]
  },
  {
   "cell_type": "code",
   "execution_count": 33,
   "metadata": {},
   "outputs": [],
   "source": [
    "f = open('controller_bin.txt', 'w')\n",
    "f.write(dumps(controller['bin']))\n",
    "f.close()"
   ]
  },
  {
   "cell_type": "code",
   "execution_count": 35,
   "metadata": {},
   "outputs": [
    {
     "name": "stdout",
     "output_type": "stream",
     "text": [
      "0x2441dc5cd848f3d9121315ef62cf7333a564637bbd44674628ecf2a522fff3e0\n"
     ]
    }
   ],
   "source": [
    "contract = web3.eth.contract(abi=controller['abi'], bytecode=controller['bin'])\n",
    "tx = Transaction(\n",
    "    nonce=web3.eth.getTransactionCount(account_addr),\n",
    "    to=b'',\n",
    "    gasprice=web3.eth.gasPrice,\n",
    "    startgas=6900000,\n",
    "    value=0,\n",
    "    data=contract.bytecode\n",
    "    )\n",
    "tx.sign(account_pk)\n",
    "raw_tx = rlp.encode(tx)\n",
    "raw_tx_hex = web3.toHex(raw_tx)\n",
    "tx_hash = web3.eth.sendRawTransaction(raw_tx_hex)\n",
    "print(tx_hash.hex())"
   ]
  },
  {
   "cell_type": "code",
   "execution_count": 36,
   "metadata": {},
   "outputs": [
    {
     "name": "stdout",
     "output_type": "stream",
     "text": [
      "AttributeDict({'from': '0xaad64bef1b6fa3646859d10e6ee670d01811b908', 'transactionHash': HexBytes('0x2441dc5cd848f3d9121315ef62cf7333a564637bbd44674628ecf2a522fff3e0'), 'blockNumber': 1718227, 'blockHash': HexBytes('0xdbadc7818d73ddf93f57fb1a664355b567c50930cb30685a56a97619ad74980e'), 'logsBloom': HexBytes('0x00000000000000000000000000000000000000000000000000000000000000000000000000000000000000000000000000000000000000000000000000000000000000000000000000000000000000000000000000000000000000000000000000000000000000000000000000000000000000000000000000000000000000000000000000000000000000000000000000000000000000000000000000000000000000000000000000000000000000000000000000000000000000000000000000000000000000000000000000000000000000000000000000000000000000000000000000000000000000000000000000000000000000000000000000000000'), 'to': None, 'status': 1, 'cumulativeGasUsed': 4643488, 'transactionIndex': 2, 'contractAddress': '0x4c71cF081502b0DaD868d1BA1Fd8f703b2cFFd6e', 'gasUsed': 4588601, 'logs': []})\n"
     ]
    }
   ],
   "source": [
    "tx_receipt = web3.eth.getTransactionReceipt(tx_hash)\n",
    "print(tx_receipt)"
   ]
  },
  {
   "cell_type": "code",
   "execution_count": 40,
   "metadata": {},
   "outputs": [
    {
     "data": {
      "text/plain": [
       "Version('0.4.19+commit.c4cbbb05.Linux.gpp')"
      ]
     },
     "execution_count": 40,
     "metadata": {},
     "output_type": "execute_result"
    }
   ],
   "source": [
    "from solc import get_solc_version as ver\n",
    "ver()"
   ]
  },
  {
   "cell_type": "code",
   "execution_count": null,
   "metadata": {},
   "outputs": [],
   "source": []
  }
 ],
 "metadata": {
  "kernelspec": {
   "display_name": "Python 3",
   "language": "python",
   "name": "python3"
  },
  "language_info": {
   "codemirror_mode": {
    "name": "ipython",
    "version": 3
   },
   "file_extension": ".py",
   "mimetype": "text/x-python",
   "name": "python",
   "nbconvert_exporter": "python",
   "pygments_lexer": "ipython3",
   "version": "3.5.2"
  }
 },
 "nbformat": 4,
 "nbformat_minor": 2
}
