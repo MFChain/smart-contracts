{
 "cells": [
  {
   "cell_type": "code",
   "execution_count": 1,
   "metadata": {},
   "outputs": [],
   "source": [
    "from web3 import Web3\n",
    "import rlp\n",
    "from ethereum.transactions import Transaction\n",
    "from solc import compile_files\n",
    "from json import dumps, loads"
   ]
  },
  {
   "cell_type": "code",
   "execution_count": 2,
   "metadata": {},
   "outputs": [],
   "source": [
    "web3 = Web3(Web3.HTTPProvider(\"https://rinkeby.infura.io/MSNyVuE56cCNMxT1C4BA\"))"
   ]
  },
  {
   "cell_type": "code",
   "execution_count": 3,
   "metadata": {},
   "outputs": [
    {
     "name": "stdout",
     "output_type": "stream",
     "text": [
      "0xaaD64BEf1b6Fa3646859d10e6EE670D01811b908\n",
      "0x88b7d17e7e9cb668ec1700c3b3a7efd5229ec2bf8e165be948f514412857c6e9\n"
     ]
    }
   ],
   "source": [
    "account = web3.eth.account.create('password')\n",
    "print(account.address)\n",
    "print(account.privateKey.hex())"
   ]
  },
  {
   "cell_type": "code",
   "execution_count": 3,
   "metadata": {},
   "outputs": [],
   "source": [
    "account_addr = '0xaaD64BEf1b6Fa3646859d10e6EE670D01811b908'\n",
    "account_pk = '0x88b7d17e7e9cb668ec1700c3b3a7efd5229ec2bf8e165be948f514412857c6e9'"
   ]
  },
  {
   "cell_type": "code",
   "execution_count": 4,
   "metadata": {},
   "outputs": [],
   "source": [
    "res = compile_files(['contracts/4tests.sol'], optimize=True, optimize_runs=500)\n",
    "\n",
    "controller = res['contracts/4tests.sol:ICO_controller']\n",
    "crowdsale = res['contracts/4tests.sol:WhitelistedCrowdsale']\n",
    "token = res['contracts/4tests.sol:MFC_Token']\n",
    "\n",
    "f = open('controller_abi.txt', 'w')\n",
    "f.write(dumps(controller['abi']))\n",
    "f.close()"
   ]
  },
  {
   "cell_type": "code",
   "execution_count": 7,
   "metadata": {},
   "outputs": [],
   "source": [
    "res2 = compile_files(['contracts/4tests_Holder.sol'], optimize=True, optimize_runs=100)\n",
    "\n",
    "holder = res2['contracts/4tests_Holder.sol:Holder']\n",
    "\n",
    "f = open('holder_abi.txt', 'w')\n",
    "f.write(dumps(holder['abi']))\n",
    "f.close()"
   ]
  },
  {
   "cell_type": "code",
   "execution_count": 8,
   "metadata": {},
   "outputs": [],
   "source": [
    "f = open('controller_bin.txt', 'w')\n",
    "f.write(dumps(controller['bin']))\n",
    "f.close()"
   ]
  },
  {
   "cell_type": "code",
   "execution_count": 9,
   "metadata": {},
   "outputs": [
    {
     "name": "stdout",
     "output_type": "stream",
     "text": [
      "0x5115d9666b267a2677581ed7f7ac711e99d79304a6b0853d55327a7caa7d49c1\n"
     ]
    }
   ],
   "source": [
    "holder = web3.eth.contract(abi=holder['abi'], bytecode=holder['bin'])\n",
    "tx_h = Transaction(\n",
    "    nonce=web3.eth.getTransactionCount(account_addr),\n",
    "    to=b'',\n",
    "    gasprice=web3.eth.gasPrice,\n",
    "    startgas=5000000,\n",
    "    value=0,\n",
    "    data=holder.bytecode\n",
    "    )\n",
    "tx_h.sign(account_pk)\n",
    "raw_tx_h = rlp.encode(tx_h)\n",
    "raw_tx_h_hex = web3.toHex(raw_tx_h)\n",
    "tx_h_hash = web3.eth.sendRawTransaction(raw_tx_h_hex)\n",
    "print(tx_h_hash.hex())"
   ]
  },
  {
   "cell_type": "code",
   "execution_count": 11,
   "metadata": {},
   "outputs": [
    {
     "name": "stdout",
     "output_type": "stream",
     "text": [
      "0x7eD566ab6C3AAd0234a4CB694B5a487f5adFe2fE\n"
     ]
    }
   ],
   "source": [
    "tx_h_receipt = web3.eth.getTransactionReceipt(tx_h_hash)\n",
    "holder_address = tx_h_receipt['contractAddress']\n",
    "print(holder_address)"
   ]
  },
  {
   "cell_type": "code",
   "execution_count": 17,
   "metadata": {},
   "outputs": [
    {
     "name": "stdout",
     "output_type": "stream",
     "text": [
      "['__class__', '__delattr__', '__dict__', '__dir__', '__doc__', '__eq__', '__format__', '__ge__', '__getattribute__', '__gt__', '__hash__', '__init__', '__le__', '__lt__', '__module__', '__ne__', '__new__', '__reduce__', '__reduce_ex__', '__repr__', '__setattr__', '__sizeof__', '__str__', '__subclasshook__', '__weakref__', '_encode_constructor_data', '_find_matching_event_abi', '_find_matching_fn_abi', '_prepare_transaction', '_return_data_normalizers', 'abi', 'address', 'asm', 'ast', 'buildTransaction', 'bytecode', 'bytecode_runtime', 'call', 'clone_bin', 'deploy', 'dev_doc', 'encodeABI', 'estimateGas', 'eventFilter', 'events', 'factory', 'functions', 'interface', 'metadata', 'opcodes', 'src_map', 'src_map_runtime', 'transact', 'user_doc', 'web3']\n"
     ]
    },
    {
     "ename": "AttributeError",
     "evalue": "type object 'Contract' has no attribute 'constructor'",
     "output_type": "error",
     "traceback": [
      "\u001b[0;31m---------------------------------------------------------------------------\u001b[0m",
      "\u001b[0;31mAttributeError\u001b[0m                            Traceback (most recent call last)",
      "\u001b[0;32m<ipython-input-17-d789f44063e4>\u001b[0m in \u001b[0;36m<module>\u001b[0;34m()\u001b[0m\n\u001b[1;32m      7\u001b[0m \u001b[0mtxo\u001b[0m \u001b[0;34m=\u001b[0m \u001b[0;34m{\u001b[0m\u001b[0;34m'from'\u001b[0m\u001b[0;34m:\u001b[0m \u001b[0maccount_addr\u001b[0m\u001b[0;34m}\u001b[0m\u001b[0;34m\u001b[0m\u001b[0m\n\u001b[1;32m      8\u001b[0m \u001b[0mprint\u001b[0m\u001b[0;34m(\u001b[0m\u001b[0mdir\u001b[0m\u001b[0;34m(\u001b[0m\u001b[0mcontract\u001b[0m\u001b[0;34m)\u001b[0m\u001b[0;34m)\u001b[0m\u001b[0;34m\u001b[0m\u001b[0m\n\u001b[0;32m----> 9\u001b[0;31m \u001b[0mtx\u001b[0m \u001b[0;34m=\u001b[0m \u001b[0mcontract\u001b[0m\u001b[0;34m.\u001b[0m\u001b[0mconstructor\u001b[0m\u001b[0;34m(\u001b[0m\u001b[0;34m*\u001b[0m\u001b[0margs\u001b[0m\u001b[0;34m)\u001b[0m\u001b[0;34m.\u001b[0m\u001b[0mbuildTransacyion\u001b[0m\u001b[0;34m(\u001b[0m\u001b[0mtxo\u001b[0m\u001b[0;34m)\u001b[0m\u001b[0;34m\u001b[0m\u001b[0m\n\u001b[0m\u001b[1;32m     10\u001b[0m \u001b[0mtx\u001b[0m\u001b[0;34m[\u001b[0m\u001b[0;34m'nonce'\u001b[0m\u001b[0;34m]\u001b[0m \u001b[0;34m=\u001b[0m \u001b[0mweb3\u001b[0m\u001b[0;34m.\u001b[0m\u001b[0meth\u001b[0m\u001b[0;34m.\u001b[0m\u001b[0mgetTransactionCount\u001b[0m\u001b[0;34m(\u001b[0m\u001b[0maccount_addr\u001b[0m\u001b[0;34m)\u001b[0m\u001b[0;34m\u001b[0m\u001b[0m\n\u001b[1;32m     11\u001b[0m \u001b[0msigned\u001b[0m \u001b[0;34m=\u001b[0m \u001b[0mweb3\u001b[0m\u001b[0;34m.\u001b[0m\u001b[0meth\u001b[0m\u001b[0;34m.\u001b[0m\u001b[0maccount\u001b[0m\u001b[0;34m.\u001b[0m\u001b[0msignTransaction\u001b[0m\u001b[0;34m(\u001b[0m\u001b[0mtx\u001b[0m\u001b[0;34m,\u001b[0m \u001b[0maccount_pk\u001b[0m\u001b[0;34m)\u001b[0m\u001b[0;34m\u001b[0m\u001b[0m\n",
      "\u001b[0;31mAttributeError\u001b[0m: type object 'Contract' has no attribute 'constructor'"
     ]
    }
   ],
   "source": [
    "kwargs = {\n",
    "    '_holder': '0x7eD566ab6C3AAd0234a4CB694B5a487f5adFe2fE',\n",
    "    '_incentive_program': account_addr\n",
    "}\n",
    "args = ('0x7eD566ab6C3AAd0234a4CB694B5a487f5adFe2fE', account_addr)\n",
    "contract = web3.eth.contract(abi=controller['abi'], bytecode=controller['bin'])\n",
    "txo = {'from': account_addr}\n",
    "print(dir(contract))\n",
    "tx = contract.constructor(*args).buildTransacyion(txo)\n",
    "tx['nonce'] = web3.eth.getTransactionCount(account_addr)\n",
    "signed = web3.eth.account.signTransaction(tx, account_pk)\n",
    "tx_hash = web3.eth.sendRawTransaction(raw_tx_hex)\n",
    "print(tx_hash.hex())\n",
    "\n",
    "tx_receipt = web3.eth.getTransactionReceipt(tx_hash)\n",
    "print(tx_receipt)"
   ]
  },
  {
   "cell_type": "code",
   "execution_count": 36,
   "metadata": {},
   "outputs": [
    {
     "name": "stdout",
     "output_type": "stream",
     "text": [
      "AttributeDict({'from': '0xaad64bef1b6fa3646859d10e6ee670d01811b908', 'transactionHash': HexBytes('0x2441dc5cd848f3d9121315ef62cf7333a564637bbd44674628ecf2a522fff3e0'), 'blockNumber': 1718227, 'blockHash': HexBytes('0xdbadc7818d73ddf93f57fb1a664355b567c50930cb30685a56a97619ad74980e'), 'logsBloom': HexBytes('0x00000000000000000000000000000000000000000000000000000000000000000000000000000000000000000000000000000000000000000000000000000000000000000000000000000000000000000000000000000000000000000000000000000000000000000000000000000000000000000000000000000000000000000000000000000000000000000000000000000000000000000000000000000000000000000000000000000000000000000000000000000000000000000000000000000000000000000000000000000000000000000000000000000000000000000000000000000000000000000000000000000000000000000000000000000000'), 'to': None, 'status': 1, 'cumulativeGasUsed': 4643488, 'transactionIndex': 2, 'contractAddress': '0x4c71cF081502b0DaD868d1BA1Fd8f703b2cFFd6e', 'gasUsed': 4588601, 'logs': []})\n"
     ]
    }
   ],
   "source": [
    "tx_receipt = web3.eth.getTransactionReceipt(tx_hash)\n",
    "print(tx_receipt)"
   ]
  },
  {
   "cell_type": "code",
   "execution_count": null,
   "metadata": {},
   "outputs": [],
   "source": []
  }
 ],
 "metadata": {
  "kernelspec": {
   "display_name": "Python 3",
   "language": "python",
   "name": "python3"
  },
  "language_info": {
   "codemirror_mode": {
    "name": "ipython",
    "version": 3
   },
   "file_extension": ".py",
   "mimetype": "text/x-python",
   "name": "python",
   "nbconvert_exporter": "python",
   "pygments_lexer": "ipython3",
   "version": "3.5.2"
  }
 },
 "nbformat": 4,
 "nbformat_minor": 2
}
